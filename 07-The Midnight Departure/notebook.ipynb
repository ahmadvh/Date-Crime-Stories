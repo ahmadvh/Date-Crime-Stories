{
 "cells": [
  {
   "cell_type": "markdown",
   "id": "199bb408",
   "metadata": {},
   "source": [
    "# 🚂 The Midnight Express Mystery\n",
    "\n",
    "Welcome, detective! The Midnight Express has arrived, but Dr. Evelyn Hart is missing. She was last seen at dinner, but never showed for breakfast. Security logs show a sleeper cabin door opened at 03:12, and a mysterious ticket scan at a rural station at 03:20—well before the scheduled arrival. Four other passengers shared her car. Can you use the data to solve the mystery of Dr. Hart's disappearance?\n",
    "\n",
    "Let's dive into the evidence! 🕵️‍♂️"
   ]
  },
  {
   "cell_type": "markdown",
   "id": "9f3a29d7",
   "metadata": {},
   "source": [
    "## 1️⃣ Load the Evidence\n",
    "\n",
    "We'll start by loading the three key datasets:\n",
    "- Ticket scans\n",
    "- Dining reservations\n",
    "- Sleeper cabin door logs\n",
    "\n",
    "Let's see what secrets they hold!"
   ]
  },
  {
   "cell_type": "code",
   "execution_count": 1,
   "id": "44ee9eb8",
   "metadata": {},
   "outputs": [],
   "source": []
  },
  {
   "cell_type": "markdown",
   "id": "06b35721",
   "metadata": {},
   "source": [
    "## 2️⃣ First Glance at the Data\n",
    "\n",
    "Let's peek at the first few rows of each dataset to get familiar with the information."
   ]
  },
  {
   "cell_type": "code",
   "execution_count": 2,
   "id": "3388bc17",
   "metadata": {},
   "outputs": [],
   "source": []
  },
  {
   "cell_type": "markdown",
   "id": "29766e9f",
   "metadata": {},
   "source": [
    "### 🔍 Observations\n",
    "- All passengers scanned in at Central City at 21:00.\n",
    "- One mysterious scan at 03:20 at Riverside by 'Unknown'.\n",
    "- Most attended dinner except Olga Petrov.\n",
    "- Dr. Hart's cabin door opened at 03:12—very close to the 03:20 scan!\n",
    "\n",
    "Let's dig deeper into the timing."
   ]
  },
  {
   "cell_type": "markdown",
   "id": "d09cae42",
   "metadata": {},
   "source": [
    "## 3️⃣ Analyzing the Timeline\n",
    "\n",
    "We'll convert the relevant time columns to datetime for easier analysis."
   ]
  },
  {
   "cell_type": "code",
   "execution_count": 3,
   "id": "c5581d3d",
   "metadata": {},
   "outputs": [],
   "source": []
  },
  {
   "cell_type": "markdown",
   "id": "35a4d2cd",
   "metadata": {},
   "source": [
    "## 4️⃣ Who Opened Their Door at Night?\n",
    "\n",
    "Let's look for any cabin doors opened between midnight and 04:00. This could indicate suspicious movement during the night."
   ]
  },
  {
   "cell_type": "code",
   "execution_count": 4,
   "id": "b7ad81d1",
   "metadata": {},
   "outputs": [],
   "source": []
  },
  {
   "cell_type": "markdown",
   "id": "9ed36bdd",
   "metadata": {},
   "source": [
    "### 🕰️ Nighttime Activity\n",
    "\n",
    "Only Dr. Evelyn Hart's cabin (A1) was opened during the night—at 03:12. This is just 8 minutes before the mysterious ticket scan at Riverside (03:20)."
   ]
  },
  {
   "cell_type": "markdown",
   "id": "74028d9c",
   "metadata": {},
   "source": [
    "## 5️⃣ Comparing Door Logs and Ticket Scans\n",
    "\n",
    "Let's see if any other passenger could have left at 03:20. We'll check if anyone else's door opened before the Riverside scan."
   ]
  },
  {
   "cell_type": "code",
   "execution_count": 5,
   "id": "1725d001",
   "metadata": {},
   "outputs": [],
   "source": []
  },
  {
   "cell_type": "markdown",
   "id": "e06ecf49",
   "metadata": {},
   "source": [
    "### 🚪 Door vs. Scan\n",
    "\n",
    "Again, only Dr. Hart's door was opened before the Riverside scan. The other passengers' doors opened much later in the morning, except Olga Petrov, whose door opened at 22:30 (the previous night)."
   ]
  },
  {
   "cell_type": "markdown",
   "id": "246f9868",
   "metadata": {},
   "source": [
    "## 6️⃣ Who Attended Dinner?\n",
    "\n",
    "Let's check if anyone skipped dinner, which might indicate unusual behavior or an alibi."
   ]
  },
  {
   "cell_type": "code",
   "execution_count": 6,
   "id": "d406d9f8",
   "metadata": {},
   "outputs": [],
   "source": []
  },
  {
   "cell_type": "markdown",
   "id": "884391d5",
   "metadata": {},
   "source": [
    "### 🍽️ Dinner Attendance\n",
    "\n",
    "Only Olga Petrov skipped dinner. However, her cabin door opened at 22:30, not during the suspicious window. The rest, including Dr. Hart, attended dinner."
   ]
  },
  {
   "cell_type": "markdown",
   "id": "897d6042",
   "metadata": {},
   "source": [
    "## 7️⃣ Visualizing the Timeline\n",
    "\n",
    "Let's plot the key events to visualize the sequence of actions during the night."
   ]
  },
  {
   "cell_type": "code",
   "execution_count": 18,
   "id": "9f034b22",
   "metadata": {},
   "outputs": [],
   "source": []
  },
  {
   "cell_type": "markdown",
   "id": "c690fe35",
   "metadata": {},
   "source": [
    "## 🧩 Conclusion: What Happened to Dr. Hart?\n",
    "\n",
    "- Dr. Hart's cabin door opened at 03:12, the only door opened during the night.\n",
    "- A ticket was scanned at Riverside at 03:20 by 'Unknown'.\n",
    "- No other passenger's door opened before this scan.\n",
    "- Olga Petrov skipped dinner, but her door opened much earlier (22:30).\n",
    "\n",
    "**It appears Dr. Hart (or someone using her ticket) left the train at Riverside in the dead of night.**\n",
    "\n",
    "Was Dr. Hart the one who left, or did someone else use her ticket? The evidence suggests she was the only one who could have exited at that time. The mystery deepens, but you've uncovered the crucial timeline! 🕵️‍♀️🚂"
   ]
  }
 ],
 "metadata": {
  "kernelspec": {
   "display_name": "Python 3 (ipykernel)",
   "language": "python",
   "name": "python3"
  },
  "language_info": {
   "codemirror_mode": {
    "name": "ipython",
    "version": 3
   },
   "file_extension": ".py",
   "mimetype": "text/x-python",
   "name": "python",
   "nbconvert_exporter": "python",
   "pygments_lexer": "ipython3",
   "version": "3.11.9"
  },
  "widgets": {
   "application/vnd.jupyter.widget-state+json": {
    "state": {},
    "version_major": 2,
    "version_minor": 0
   }
  }
 },
 "nbformat": 4,
 "nbformat_minor": 5
}
