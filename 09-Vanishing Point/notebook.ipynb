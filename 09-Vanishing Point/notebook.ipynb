{
 "cells": [
  {
   "cell_type": "markdown",
   "id": "94c5f032",
   "metadata": {},
   "source": [
    "# 🏞️ The Mystery of Pinecrest National Park\n",
    "\n",
    "Riley, an experienced solo hiker, vanished during a weekend trek in Pinecrest National Park. Park rangers found Riley’s abandoned tent and a dropped GPS device. Reviewing GPS trail logs, drone surveillance, and campsite reservations, investigators noticed something odd: Riley’s path overlapped with another hiker who wasn’t registered at any campsite. The drone footage captured two figures at dusk near a remote ridge, though only Riley’s name appears in the official records.\n",
    "\n",
    "**Who was the shadowy companion, and what happened on the trail?**\n",
    "\n",
    "Let's use data analysis to unravel this mystery! 🔍"
   ]
  },
  {
   "cell_type": "markdown",
   "id": "b519b966",
   "metadata": {},
   "source": [
    "## 1️⃣ Loading the Evidence\n",
    "\n",
    "We'll start by loading the three key datasets:\n",
    "- GPS trail logs\n",
    "- Drone surveillance logs\n",
    "- Campsite reservations\n",
    "\n",
    "Let's see what clues they hold!"
   ]
  },
  {
   "cell_type": "code",
   "execution_count": 1,
   "id": "48ecb79f",
   "metadata": {},
   "outputs": [],
   "source": []
  },
  {
   "cell_type": "markdown",
   "id": "0fe7496b",
   "metadata": {},
   "source": [
    "## 2️⃣ First Glance at the Data\n",
    "\n",
    "Let's peek at the first few rows of each dataset to get familiar with the evidence."
   ]
  },
  {
   "cell_type": "code",
   "execution_count": 2,
   "id": "54a28aac",
   "metadata": {},
   "outputs": [],
   "source": []
  },
  {
   "cell_type": "markdown",
   "id": "c0555270",
   "metadata": {},
   "source": [
    "### 🕵️‍♂️ Observations\n",
    "- The GPS logs show both Riley and an 'Unknown' hiker at key locations.\n",
    "- Drone footage logs the number of people seen at various locations and times.\n",
    "- Campsite reservations list only Riley, Sam, and Morgan.\n",
    "\n",
    "Let's dig deeper into the GPS logs to track movements and overlaps."
   ]
  },
  {
   "cell_type": "code",
   "execution_count": 3,
   "id": "053846b1",
   "metadata": {},
   "outputs": [],
   "source": []
  },
  {
   "cell_type": "markdown",
   "id": "6cc7b544",
   "metadata": {},
   "source": [
    "### 🔎 GPS Trail Analysis\n",
    "We see that both Riley and the 'Unknown' hiker appear at Eagle Ridge and Pine Lake, with the 'Unknown' hiker arriving just after Riley at each spot.\n",
    "\n",
    "Let's compare their paths and timings."
   ]
  },
  {
   "cell_type": "code",
   "execution_count": 4,
   "id": "a3d38ae8",
   "metadata": {},
   "outputs": [],
   "source": []
  },
  {
   "cell_type": "markdown",
   "id": "66e558bb",
   "metadata": {},
   "source": [
    "### 🗺️ Overlap Insights\n",
    "At both Eagle Ridge and Pine Lake, the 'Unknown' hiker arrives within minutes of Riley. This suggests they were traveling closely together, possibly following or meeting up.\n",
    "\n",
    "Let's see if the drone footage supports this."
   ]
  },
  {
   "cell_type": "code",
   "execution_count": 5,
   "id": "9d36a8a0",
   "metadata": {},
   "outputs": [],
   "source": []
  },
  {
   "cell_type": "markdown",
   "id": "d6954017",
   "metadata": {},
   "source": [
    "### 🚁 Drone Surveillance\n",
    "The drone footage shows two people at Eagle Ridge (17:05) and Pine Lake (18:25), matching the GPS overlaps. At other times and locations, only one person is seen.\n",
    "\n",
    "Let's visualize the number of people seen over time."
   ]
  },
  {
   "cell_type": "code",
   "execution_count": 6,
   "id": "ddf39e3b",
   "metadata": {},
   "outputs": [],
   "source": []
  },
  {
   "cell_type": "markdown",
   "id": "157443d6",
   "metadata": {},
   "source": [
    "### 📊 Visual Clues\n",
    "The plot confirms that two people were together at Eagle Ridge and Pine Lake, but only one person is seen at Forest Bend and Campsite 4.\n",
    "\n",
    "Now, let's check if the 'Unknown' hiker appears in the campsite reservations."
   ]
  },
  {
   "cell_type": "code",
   "execution_count": 7,
   "id": "0874b27b",
   "metadata": {},
   "outputs": [],
   "source": []
  },
  {
   "cell_type": "markdown",
   "id": "cedce026",
   "metadata": {},
   "source": [
    "### 🏕️ Campsite Check\n",
    "Only Riley, Sam, and Morgan are registered at campsites. The 'Unknown' hiker is not listed, supporting the theory that they were unregistered.\n",
    "\n",
    "Let's see who was at Campsite 4, where Riley was supposed to check in at 19:00."
   ]
  },
  {
   "cell_type": "code",
   "execution_count": 8,
   "id": "c00f133c",
   "metadata": {},
   "outputs": [],
   "source": []
  },
  {
   "cell_type": "markdown",
   "id": "1b36928d",
   "metadata": {},
   "source": [
    "## 🕯️ Conclusion: Who Was the Shadowy Companion?\n",
    "\n",
    "- The GPS and drone data confirm Riley was not alone at key points, despite being registered as a solo hiker.\n",
    "- The 'Unknown' hiker closely followed or accompanied Riley at Eagle Ridge and Pine Lake.\n",
    "- Only Riley is registered at Campsite 4, and the drone saw just one person there after dusk.\n",
    "\n",
    "**Insight:** The mysterious companion was never registered at any campsite and vanished before reaching the campsite with Riley. Their identity remains unknown, but the data suggests they were with Riley until shortly before the disappearance. Further investigation should focus on identifying the 'Unknown' hiker seen in the drone footage and GPS logs.\n",
    "\n",
    "🔦 The mystery deepens, but data analysis has brought us closer to the truth!"
   ]
  }
 ],
 "metadata": {
  "kernelspec": {
   "display_name": "Python 3 (ipykernel)",
   "language": "python",
   "name": "python3"
  },
  "language_info": {
   "codemirror_mode": {
    "name": "ipython",
    "version": 3
   },
   "file_extension": ".py",
   "mimetype": "text/x-python",
   "name": "python",
   "nbconvert_exporter": "python",
   "pygments_lexer": "ipython3",
   "version": "3.11.9"
  },
  "widgets": {
   "application/vnd.jupyter.widget-state+json": {
    "state": {},
    "version_major": 2,
    "version_minor": 0
   }
  }
 },
 "nbformat": 4,
 "nbformat_minor": 5
}
