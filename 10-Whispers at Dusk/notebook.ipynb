{
 "cells": [
  {
   "cell_type": "markdown",
   "id": "09bb7289",
   "metadata": {},
   "source": [
    "# 🕵️‍♂️ Foggy Festival Mystery\n",
    "\n",
    "During the annual foggy town festival, Councilwoman Linda Park vanishes without a trace. She was last seen near the Ferris wheel at 19:30, but no one recalls seeing her after. The festival was bustling, with rides, food stalls, and a busy lost-and-found tent.\n",
    "\n",
    "Investigators have gathered data from fairground ride logs, food stall purchases, and lost-and-found check-ins to piece together Linda’s movements.\n",
    "\n",
    "**Can you analyze the data to determine her last known location and who might have been with her before she disappeared?**"
   ]
  },
  {
   "cell_type": "markdown",
   "id": "5b42020a",
   "metadata": {},
   "source": [
    "## 1️⃣ Loading the Data\n",
    "Let's start by loading the three datasets: fairground rides, food stall purchases, and lost-and-found check-ins."
   ]
  },
  {
   "cell_type": "code",
   "execution_count": 1,
   "id": "d1095f15",
   "metadata": {},
   "outputs": [],
   "source": []
  },
  {
   "cell_type": "markdown",
   "id": "63f6028a",
   "metadata": {},
   "source": [
    "## 2️⃣ Exploring the Datasets\n",
    "Let's take a quick look at the first few rows of each dataset to get familiar with the data."
   ]
  },
  {
   "cell_type": "code",
   "execution_count": 2,
   "id": "74af1085",
   "metadata": {},
   "outputs": [],
   "source": []
  },
  {
   "cell_type": "markdown",
   "id": "6d65cb90",
   "metadata": {},
   "source": [
    "We can see that each dataset contains time-stamped records of activities at the festival. Let's ensure the time columns are in a usable format for analysis."
   ]
  },
  {
   "cell_type": "code",
   "execution_count": 3,
   "id": "31713597",
   "metadata": {},
   "outputs": [],
   "source": []
  },
  {
   "cell_type": "markdown",
   "id": "0fdc6096",
   "metadata": {},
   "source": [
    "## 3️⃣ Tracing Linda Park's Movements\n",
    "Let's filter each dataset to see Linda Park's activities and their timings."
   ]
  },
  {
   "cell_type": "code",
   "execution_count": 4,
   "id": "c3926da7",
   "metadata": {},
   "outputs": [],
   "source": []
  },
  {
   "cell_type": "markdown",
   "id": "f99bac7e",
   "metadata": {},
   "source": [
    "Linda's ride log shows she was on the Ferris Wheel at 19:10 and 19:25, and on the Carousel at 19:30. Let's check her food stall purchases next."
   ]
  },
  {
   "cell_type": "code",
   "execution_count": 5,
   "id": "19c49bf7",
   "metadata": {},
   "outputs": [],
   "source": []
  },
  {
   "cell_type": "markdown",
   "id": "b3199e49",
   "metadata": {},
   "source": [
    "Linda bought a hot dog at 19:05 and cotton candy at 19:33. Notice that the cotton candy purchase is after her last ride log at 19:30. Let's see her lost-and-found check-ins."
   ]
  },
  {
   "cell_type": "code",
   "execution_count": 6,
   "id": "00f10f74",
   "metadata": {},
   "outputs": [],
   "source": []
  },
  {
   "cell_type": "markdown",
   "id": "d794f75e",
   "metadata": {},
   "source": [
    "Linda checked in an umbrella at 19:00 and a purse at 19:36. The purse check-in is the latest activity recorded for her!\n",
    "\n",
    "Let's visualize Linda's timeline to clarify the sequence. first, let's define a timeline dataframe"
   ]
  },
  {
   "cell_type": "code",
   "execution_count": 7,
   "id": "2ff5f0f1",
   "metadata": {},
   "outputs": [],
   "source": []
  },
  {
   "cell_type": "code",
   "execution_count": 8,
   "id": "8d7a2368-bf00-4dc0-a403-6fd09a1a7f3c",
   "metadata": {},
   "outputs": [],
   "source": []
  },
  {
   "cell_type": "markdown",
   "id": "841590f4",
   "metadata": {},
   "source": [
    "From the timeline, Linda's last recorded activity is at the lost-and-found tent at 19:36, **after** her last sighting at the Ferris Wheel at 19:30. This suggests she was alive and moving around after 19:30!\n",
    "\n",
    "Let's see who else was near Linda around these times."
   ]
  },
  {
   "cell_type": "code",
   "execution_count": 9,
   "id": "e0d12698",
   "metadata": {},
   "outputs": [],
   "source": []
  },
  {
   "cell_type": "markdown",
   "id": "935ee83e",
   "metadata": {},
   "source": [
    "Between 19:34 and 19:36, Eli Turner (19:34), Sam Patel (19:35), and Linda Park (19:36) all checked in items at the lost-and-found tent. This means they were likely in close proximity just before Linda vanished.\n",
    "\n",
    "Let's check if any of them were with Linda on rides or at food stalls shortly before."
   ]
  },
  {
   "cell_type": "code",
   "execution_count": 42,
   "id": "ced4a559",
   "metadata": {},
   "outputs": [],
   "source": []
  },
  {
   "cell_type": "markdown",
   "id": "e72126a6",
   "metadata": {},
   "source": [
    "At 19:25, Linda Park and Sam Patel were both on the Ferris Wheel together. Sam also appears at the lost-and-found tent just before Linda's last check-in.\n",
    "\n",
    "## 🕵️‍♀️ Conclusion\n",
    "\n",
    "Based on the data, **Linda Park's last known location was the lost-and-found tent at 19:36**. Sam Patel and Eli Turner were both present at the tent within minutes of her disappearance, and Sam was with Linda on the Ferris Wheel shortly before. **Sam Patel is a key person of interest** in this mystery!"
   ]
  }
 ],
 "metadata": {
  "kernelspec": {
   "display_name": "Python 3 (ipykernel)",
   "language": "python",
   "name": "python3"
  },
  "language_info": {
   "codemirror_mode": {
    "name": "ipython",
    "version": 3
   },
   "file_extension": ".py",
   "mimetype": "text/x-python",
   "name": "python",
   "nbconvert_exporter": "python",
   "pygments_lexer": "ipython3",
   "version": "3.11.9"
  },
  "widgets": {
   "application/vnd.jupyter.widget-state+json": {
    "state": {},
    "version_major": 2,
    "version_minor": 0
   }
  }
 },
 "nbformat": 4,
 "nbformat_minor": 5
}
