{
 "cells": [
  {
   "cell_type": "markdown",
   "id": "6e76155a",
   "metadata": {},
   "source": [
    "# 💍 Island Wedding Mystery\n",
    "\n",
    "During a lavish wedding on a secluded island, the bride’s priceless necklace disappears from the locked bridal suite. Only 30 guests were present, and the island is accessible only by boat. The power went out briefly at 21:15, and the boathouse motion sensors recorded unusual activity. The wine cellar inventory also shows unexpected discrepancies. Was it a guest, or did someone on the staff betray the trust? Analyze the data to uncover who had the opportunity and motive to steal the necklace.\n",
    "\n",
    "Let's investigate! 🕵️‍♂️"
   ]
  },
  {
   "cell_type": "markdown",
   "id": "545ba64b",
   "metadata": {},
   "source": [
    "## 1️⃣ Load the Data\n",
    "\n",
    "We'll start by loading all the relevant datasets: power outage logs, wine inventory, boathouse sensor logs, and guest alibis."
   ]
  },
  {
   "cell_type": "code",
   "execution_count": null,
   "id": "ca107d6f",
   "metadata": {},
   "outputs": [],
   "source": []
  },
  {
   "cell_type": "markdown",
   "id": "419577a9",
   "metadata": {},
   "source": [
    "## 2️⃣ Explore the Power Outage Log\n",
    "\n",
    "Let's see when and where the power outages occurred. This could reveal windows of opportunity for the thief."
   ]
  },
  {
   "cell_type": "code",
   "execution_count": null,
   "id": "8cacad8e",
   "metadata": {},
   "outputs": [],
   "source": []
  },
  {
   "cell_type": "markdown",
   "id": "bf4ec81f",
   "metadata": {},
   "source": [
    "🔎 **Observation:**\n",
    "- The main outage affecting the Bridal Suite and Boathouse started at 21:15 and lasted 7 minutes.\n",
    "- This blackout could have provided cover for the theft.\n",
    "\n",
    "Let's check what else happened during this time."
   ]
  },
  {
   "cell_type": "markdown",
   "id": "8c36650f",
   "metadata": {},
   "source": [
    "## 3️⃣ Examine the Boathouse Sensor Log\n",
    "\n",
    "Did anyone access the boathouse during the outage? Let's parse the times and look for suspicious activity."
   ]
  },
  {
   "cell_type": "code",
   "execution_count": null,
   "id": "2f10d207",
   "metadata": {},
   "outputs": [],
   "source": []
  },
  {
   "cell_type": "markdown",
   "id": "ad194125",
   "metadata": {},
   "source": [
    "🔎 **Observation:**\n",
    "- Motion and door opening were detected at 21:16 and 21:18, right in the middle of the power outage.\n",
    "- This suggests someone accessed the boathouse during the blackout window.\n",
    "\n",
    "Let's see who was near the boathouse at this time."
   ]
  },
  {
   "cell_type": "markdown",
   "id": "30a08aef",
   "metadata": {},
   "source": [
    "## 4️⃣ Review Guest Alibis\n",
    "\n",
    "Who was unaccounted for during the outage? Let's look for guests with unconfirmed alibis near the boathouse."
   ]
  },
  {
   "cell_type": "code",
   "execution_count": null,
   "id": "f38334a0",
   "metadata": {},
   "outputs": [],
   "source": []
  },
  {
   "cell_type": "markdown",
   "id": "3bf78910",
   "metadata": {},
   "source": [
    "🔎 **Observation:**\n",
    "- Marco Rossi was last seen at 21:17 in the Boathouse with no confirmed alibi.\n",
    "- Liam Patel was last seen at 21:20 in the Garden, also with no confirmed alibi.\n",
    "- The timing of Marco's last sighting matches the sensor log exactly.\n",
    "\n",
    "Let's see if the wine cellar data reveals any further clues."
   ]
  },
  {
   "cell_type": "markdown",
   "id": "59e95f9d",
   "metadata": {},
   "source": [
    "## 5️⃣ Analyze the Wine Inventory\n",
    "\n",
    "Were there any unusual discrepancies in the wine cellar that could indicate a distraction or cover for the theft?"
   ]
  },
  {
   "cell_type": "code",
   "execution_count": null,
   "id": "18e35aeb",
   "metadata": {},
   "outputs": [],
   "source": []
  },
  {
   "cell_type": "markdown",
   "id": "88c65eb4",
   "metadata": {},
   "source": [
    "🔎 **Observation:**\n",
    "- Champagne had a significant drop (from 8 to 2 bottles) by 21:10, just before the outage.\n",
    "- Sophie Dubois was last seen in the wine cellar at 21:15, but her alibi is confirmed.\n",
    "- The wine cellar may have been used as a distraction or gathering point before the theft.\n",
    "\n",
    "Let's visualize the timeline of key events."
   ]
  },
  {
   "cell_type": "code",
   "execution_count": null,
   "id": "b72b3af1",
   "metadata": {},
   "outputs": [],
   "source": []
  },
  {
   "cell_type": "markdown",
   "id": "7166a119",
   "metadata": {},
   "source": [
    "## 🕵️‍♀️ Conclusion: Who Stole the Necklace?\n",
    "\n",
    "Based on the data:\n",
    "- The power outage at 21:15 created a perfect window for the theft.\n",
    "- The boathouse was accessed during the outage, with motion detected at 21:16 and 21:18.\n",
    "- Marco Rossi was last seen at 21:17 in the boathouse with no confirmed alibi, matching the suspicious activity.\n",
    "- The wine cellar activity appears unrelated to the theft, as Sophie Dubois has a confirmed alibi.\n",
    "\n",
    "**Most likely suspect: Marco Rossi**\n",
    "\n",
    "He had both the opportunity (present at the boathouse during the outage) and no confirmed alibi. The evidence points to Marco as the probable thief! 🕵️‍♂️\n",
    "\n",
    "What do you think? Would you accuse Marco, or is there another angle to explore?"
   ]
  }
 ],
 "metadata": {
  "kernelspec": {
   "display_name": "Python 3 (ipykernel)",
   "language": "python",
   "name": "python3"
  },
  "language_info": {
   "codemirror_mode": {
    "name": "ipython",
    "version": 3
   },
   "file_extension": ".py",
   "mimetype": "text/x-python",
   "name": "python",
   "nbconvert_exporter": "python",
   "pygments_lexer": "ipython3",
   "version": "3.11.9"
  },
  "widgets": {
   "application/vnd.jupyter.widget-state+json": {
    "state": {},
    "version_major": 2,
    "version_minor": 0
   }
  }
 },
 "nbformat": 4,
 "nbformat_minor": 5
}
