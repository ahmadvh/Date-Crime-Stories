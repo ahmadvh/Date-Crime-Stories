{
 "cells": [
  {
   "cell_type": "markdown",
   "id": "4b4314d9",
   "metadata": {},
   "source": [
    "# 🕵️‍♂️ Murder Mystery: The Penthouse Enigma\n",
    "\n",
    "Famed journalist **Clara Reed** was discovered dead in her penthouse suite at **2:00 AM**. The room was locked from the inside. The only clues: electronic keycard logs, minibar access records, and elevator camera data. Three guests—her assistant (**Maya**), her rival (**Victor**), and her editor (**Elena**)—were seen at the hotel that night.\n",
    "\n",
    "**Question:** Who entered Clara’s suite between 1:00 and 1:45 AM, and how did they do it?\n",
    "\n",
    "Let's analyze the evidence step by step! 🔍"
   ]
  },
  {
   "cell_type": "markdown",
   "id": "151e0825",
   "metadata": {},
   "source": [
    "## 1️⃣ Load the Evidence\n",
    "Let's load the datasets: keycard logs, minibar access, and elevator camera data."
   ]
  },
  {
   "cell_type": "code",
   "execution_count": null,
   "id": "37c81da5",
   "metadata": {},
   "outputs": [],
   "source": []
  },
  {
   "cell_type": "markdown",
   "id": "7260420c",
   "metadata": {},
   "source": [
    "## 2️⃣ First Glance at the Data\n",
    "Let's peek at the first few rows of each dataset to understand their structure."
   ]
  },
  {
   "cell_type": "code",
   "execution_count": null,
   "id": "d62b21be",
   "metadata": {},
   "outputs": [],
   "source": []
  },
  {
   "cell_type": "code",
   "execution_count": null,
   "id": "948424b6-fa80-411e-a342-1c01c0ff23a3",
   "metadata": {},
   "outputs": [],
   "source": []
  },
  {
   "cell_type": "code",
   "execution_count": null,
   "id": "bb099090-1219-454a-97c6-d8fbfd93cfa4",
   "metadata": {},
   "outputs": [],
   "source": []
  },
  {
   "cell_type": "markdown",
   "id": "e58d2800",
   "metadata": {},
   "source": [
    "From the previews, we see that all logs are timestamped (in HH:MM format) and reference either a name or a room. Let's ensure the time columns are parsed as time objects for accurate filtering."
   ]
  },
  {
   "cell_type": "code",
   "execution_count": null,
   "id": "3cdc11a6",
   "metadata": {},
   "outputs": [],
   "source": []
  },
  {
   "cell_type": "markdown",
   "id": "9dddef4f",
   "metadata": {},
   "source": [
    "## 3️⃣ Who Used the Keycard Between 1:00 and 1:45 AM?\n",
    "Let's filter the keycard logs for entries to room 1201 (Clara's suite) between 1:00 and 1:45 AM."
   ]
  },
  {
   "cell_type": "code",
   "execution_count": null,
   "id": "f889bfd9",
   "metadata": {},
   "outputs": [],
   "source": []
  },
  {
   "cell_type": "markdown",
   "id": "3a55f4d1",
   "metadata": {},
   "source": [
    "### 🗝️ Keycard Findings\n",
    "\n",
    "Between 1:00 and 1:45 AM, **Victor** (01:10) and **Elena** (01:40) used a keycard to access Clara's suite. Maya did not use her keycard in this window.\n",
    "\n",
    "Let's see if the elevator camera data supports this."
   ]
  },
  {
   "cell_type": "markdown",
   "id": "ddf932e0",
   "metadata": {},
   "source": [
    "## 4️⃣ Elevator Camera Evidence\n",
    "Who arrived on the 12th floor (Clara's floor) during the same window?"
   ]
  },
  {
   "cell_type": "code",
   "execution_count": null,
   "id": "4fcbe6a7",
   "metadata": {},
   "outputs": [],
   "source": []
  },
  {
   "cell_type": "markdown",
   "id": "9809c565",
   "metadata": {},
   "source": [
    "### 🚪 Elevator Findings\n",
    "\n",
    "During 1:00–1:45 AM, **Victor** (01:09) and **Elena** (01:39) were seen arriving on the 12th floor. Their elevator arrivals closely match their keycard entries.\n",
    "\n",
    "Let's check if the minibar was accessed during this period."
   ]
  },
  {
   "cell_type": "markdown",
   "id": "e2f16281",
   "metadata": {},
   "source": [
    "## 5️⃣ Minibar Activity\n",
    "Did anyone access the minibar in Clara's suite between 1:00 and 1:45 AM?"
   ]
  },
  {
   "cell_type": "code",
   "execution_count": null,
   "id": "d8a430bf",
   "metadata": {},
   "outputs": [],
   "source": []
  },
  {
   "cell_type": "markdown",
   "id": "89c5f1ae",
   "metadata": {},
   "source": [
    "### 🍾 Minibar Findings\n",
    "\n",
    "The minibar was accessed at **01:12** (Champagne) and **01:42** (Chocolate). These times are just after Victor's and Elena's entries, respectively.\n",
    "\n",
    "Let's visualize the timeline for clarity!"
   ]
  },
  {
   "cell_type": "code",
   "execution_count": null,
   "id": "8418c4cd",
   "metadata": {},
   "outputs": [],
   "source": []
  },
  {
   "cell_type": "markdown",
   "id": "7ad5a832-62c9-4903-b9f3-112352d405c4",
   "metadata": {},
   "source": [
    "Let's Plot the events dataframe data"
   ]
  },
  {
   "cell_type": "code",
   "execution_count": null,
   "id": "bf73387f-955e-40ed-b745-1278b982d38d",
   "metadata": {},
   "outputs": [],
   "source": []
  },
  {
   "cell_type": "markdown",
   "id": "b7afbc6b",
   "metadata": {},
   "source": [
    "🧩 Conclusion: Who Did It?\n",
    "\n",
    "The evidence rules out Maya — she wasn’t present during the crucial window.\n",
    "Victor’s arrival at 01:09 and keycard use at 01:10 align perfectly with the minibar being accessed at 01:12 for Champagne.\n",
    "Elena’s arrival at 01:39 and keycard entry at 01:40 also match the minibar being opened at 01:42 for Chocolate.\n",
    "\n",
    "Both had opportunity, both left traces.\n",
    "But the suite was locked from the inside around 02:00 AM. Victor’s activity ends earlier, while Elena was the last person documented inside the room before it was sealed.\n",
    "\n",
    "👉 This makes Elena the prime suspect — though the close timing of Victor’s visit suggests he may know more than he admits."
   ]
  }
 ],
 "metadata": {
  "kernelspec": {
   "display_name": "Python 3 (ipykernel)",
   "language": "python",
   "name": "python3"
  },
  "language_info": {
   "codemirror_mode": {
    "name": "ipython",
    "version": 3
   },
   "file_extension": ".py",
   "mimetype": "text/x-python",
   "name": "python",
   "nbconvert_exporter": "python",
   "pygments_lexer": "ipython3",
   "version": "3.11.9"
  },
  "widgets": {
   "application/vnd.jupyter.widget-state+json": {
    "state": {},
    "version_major": 2,
    "version_minor": 0
   }
  }
 },
 "nbformat": 4,
 "nbformat_minor": 5
}
