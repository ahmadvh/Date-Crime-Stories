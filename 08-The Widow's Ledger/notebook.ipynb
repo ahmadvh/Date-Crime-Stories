{
 "cells": [
  {
   "cell_type": "markdown",
   "id": "9a6e6fe1",
   "metadata": {},
   "source": [
    "# 🕵️‍♂️ Murder Mystery: The Hawthorne Estate\n",
    "\n",
    "Welcome to the investigation! At the remote Hawthorne Estate, Edith Hawthorne is found dead in her study. Though her death appears natural, a recently updated will favoring her estranged nephew has raised suspicions. The night was stormy, the phone lines were down, and only a few people were present:\n",
    "\n",
    "- The Nephew\n",
    "- The Loyal Housekeeper\n",
    "- The Local Doctor\n",
    "\n",
    "Investigators have access to:\n",
    "- 📞 Phone call logs\n",
    "- ⚡ Power usage records\n",
    "- 🚪 Visitor logs\n",
    "\n",
    "Let's use data analysis to uncover the truth. Was Edith's death truly natural, or did someone manipulate the circumstances to inherit her fortune?"
   ]
  },
  {
   "cell_type": "markdown",
   "id": "f229b5c7",
   "metadata": {},
   "source": [
    "## 1️⃣ Load the Datasets\n",
    "Let's start by loading the available datasets: phone call logs, power usage, and visitor logs."
   ]
  },
  {
   "cell_type": "code",
   "execution_count": 1,
   "id": "5c5562b5",
   "metadata": {},
   "outputs": [],
   "source": []
  },
  {
   "cell_type": "markdown",
   "id": "1e3838ab",
   "metadata": {},
   "source": [
    "## 2️⃣ Explore the Phone Call Logs\n",
    "Let's take a look at the phone call records from the night of Edith's death."
   ]
  },
  {
   "cell_type": "code",
   "execution_count": 2,
   "id": "ccf4a392",
   "metadata": {},
   "outputs": [],
   "source": []
  },
  {
   "cell_type": "markdown",
   "id": "f47d835e",
   "metadata": {},
   "source": [
    "We see several calls involving Edith, her nephew, and the housekeeper. Notably, Edith called the doctor at 19:00 and her lawyer at 20:05. The nephew also made a call to an unknown number at 20:15. Let's keep these times in mind as we proceed."
   ]
  },
  {
   "cell_type": "markdown",
   "id": "9d17c31b",
   "metadata": {},
   "source": [
    "## 3️⃣ Examine Power Usage in the Estate\n",
    "Let's check if there were any unusual spikes in power usage, especially in the study where Edith was found."
   ]
  },
  {
   "cell_type": "markdown",
   "id": "20e05f35-a179-49af-a51a-7f62c8d645bb",
   "metadata": {},
   "source": [
    "Let's have a look at the data"
   ]
  },
  {
   "cell_type": "code",
   "execution_count": 3,
   "id": "b0b36149-5394-4558-bb62-3f07719bb197",
   "metadata": {},
   "outputs": [],
   "source": []
  },
  {
   "cell_type": "markdown",
   "id": "c0c611b9-b3f5-4915-a93f-69f916b3321a",
   "metadata": {},
   "source": [
    "we can see that we have the information about power usage of different rooms. Let's convert the `time` column into datetime object."
   ]
  },
  {
   "cell_type": "code",
   "execution_count": 4,
   "id": "cf9ee3f6",
   "metadata": {},
   "outputs": [],
   "source": []
  },
  {
   "cell_type": "markdown",
   "id": "0a87a125",
   "metadata": {},
   "source": [
    "Notice the significant spike in study power usage at 20:00 (1.5 kW), much higher than at other times. This could indicate the use of an electrical device or some unusual activity in the study around the time of Edith's death."
   ]
  },
  {
   "cell_type": "markdown",
   "id": "df451eef",
   "metadata": {},
   "source": [
    "## 4️⃣ Visualize Study Power Usage Over Time\n",
    "Let's plot the study's power usage to better visualize this spike."
   ]
  },
  {
   "cell_type": "code",
   "execution_count": 5,
   "id": "87ba1aa2",
   "metadata": {},
   "outputs": [],
   "source": []
  },
  {
   "cell_type": "markdown",
   "id": "bfb42a8d",
   "metadata": {},
   "source": [
    "The plot clearly shows a sharp increase in study power usage at 20:00. This could be a crucial clue—perhaps an appliance or device was used at this time. Let's see who was present at the estate during this period."
   ]
  },
  {
   "cell_type": "markdown",
   "id": "4c5ac30b",
   "metadata": {},
   "source": [
    "## 5️⃣ Analyze Visitor Logs\n",
    "Let's review who was at the estate and their movements."
   ]
  },
  {
   "cell_type": "code",
   "execution_count": 6,
   "id": "7fe5c8d2",
   "metadata": {},
   "outputs": [],
   "source": []
  },
  {
   "cell_type": "markdown",
   "id": "fcb26fab",
   "metadata": {},
   "source": [
    "From the logs:\n",
    "- The nephew was present from 17:30 to 21:30\n",
    "- The housekeeper from 16:00 to 22:00\n",
    "- The doctor visited from 19:05 to 19:45\n",
    "- The lawyer left at 18:30\n",
    "\n",
    "At 20:00, only the nephew and housekeeper were present. The doctor had already left. This means the spike in power usage occurred when only these two were in the house."
   ]
  },
  {
   "cell_type": "markdown",
   "id": "903c58bd",
   "metadata": {},
   "source": [
    "## 6️⃣ Cross-Reference Call Logs and Visitor Presence\n",
    "Let's filter the phone calls to those made around the time of the power spike (19:30–20:30)."
   ]
  },
  {
   "cell_type": "code",
   "execution_count": 7,
   "id": "60ead045",
   "metadata": {},
   "outputs": [],
   "source": []
  },
  {
   "cell_type": "markdown",
   "id": "c0268d69",
   "metadata": {},
   "source": [
    "Between 19:30 and 20:30, the housekeeper called the police at 19:30, Edith called her lawyer at 20:05, and the nephew made a mysterious call to an unknown number at 20:15. The call to the lawyer at 20:05 is odd, since the lawyer had already left at 18:30. Was this call completed, or was it staged?"
   ]
  },
  {
   "cell_type": "markdown",
   "id": "15fa8731",
   "metadata": {},
   "source": [
    "# 🧐 Conclusion\n",
    "\n",
    "- The spike in study power usage at 20:00 suggests something unusual happened in Edith's study.\n",
    "- Only the nephew and housekeeper were present at that time.\n",
    "- The nephew made a call to an unknown number shortly after the power spike.\n",
    "- Edith's call to her lawyer at 20:05 is suspicious, as the lawyer had already left.\n",
    "\n",
    "**Based on the data, the nephew had motive (the will), opportunity (present at the time), and suspicious activity (unknown call after the power spike). The evidence points to the nephew as the likely suspect!**\n",
    "\n",
    "🔎 What do you think? Is there more to uncover, or have we cracked the case?"
   ]
  }
 ],
 "metadata": {
  "kernelspec": {
   "display_name": "Python 3 (ipykernel)",
   "language": "python",
   "name": "python3"
  },
  "language_info": {
   "codemirror_mode": {
    "name": "ipython",
    "version": 3
   },
   "file_extension": ".py",
   "mimetype": "text/x-python",
   "name": "python",
   "nbconvert_exporter": "python",
   "pygments_lexer": "ipython3",
   "version": "3.11.9"
  },
  "widgets": {
   "application/vnd.jupyter.widget-state+json": {
    "state": {},
    "version_major": 2,
    "version_minor": 0
   }
  }
 },
 "nbformat": 4,
 "nbformat_minor": 5
}
