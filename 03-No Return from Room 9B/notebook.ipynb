{
 "cells": [
  {
   "cell_type": "markdown",
   "id": "7baf547a",
   "metadata": {},
   "source": [
    "# 🕵️‍♂️ Murder Mystery: The Disappearance at the Velvet Key Hotel\n",
    "\n",
    "Welcome, detective! At the Velvet Key Hotel, guest **Alex Harper** checked into Room 407 late Friday night. By Sunday, Alex had vanished—no checkout, no complaints, and no record of housekeeping entering the room. When the manager entered, Room 407 showed signs of a struggle. Security logs show no unusual activity, but someone must know what happened.\n",
    "\n",
    "Was the data tampered with, or did someone slip through unnoticed? Let's analyze the hotel's digital records to uncover the truth! 🔍"
   ]
  },
  {
   "cell_type": "markdown",
   "id": "59905633",
   "metadata": {},
   "source": [
    "## 1️⃣ Load the Hotel Datasets\n",
    "\n",
    "Let's start by loading all available records: check-in/check-out logs, housekeeping logs, keycard activity, and security camera logs."
   ]
  },
  {
   "cell_type": "code",
   "execution_count": null,
   "id": "5f558169",
   "metadata": {},
   "outputs": [],
   "source": []
  },
  {
   "cell_type": "markdown",
   "id": "669197c9",
   "metadata": {},
   "source": [
    "## 2️⃣ Explore the Check-in/Check-out Log\n",
    "\n",
    "Let's examine who stayed in Room 407 and nearby rooms. Are there any unusual check-in or check-out patterns?"
   ]
  },
  {
   "cell_type": "code",
   "execution_count": null,
   "id": "1b476592",
   "metadata": {},
   "outputs": [],
   "source": []
  },
  {
   "cell_type": "markdown",
   "id": "dd872375",
   "metadata": {},
   "source": [
    "### 🔎 Findings\n",
    "\n",
    "- **Alex Harper** checked into Room 407 at 22:15, but there's no checkout time.\n",
    "- **Lila Chen** is also listed for Room 407, but with no check-in or check-out times.\n",
    "- Other guests in nearby rooms have both check-in and checkout times.\n",
    "\n",
    "This suggests Alex Harper was the last known occupant of Room 407. Let's see if anyone else accessed the room."
   ]
  },
  {
   "cell_type": "markdown",
   "id": "b1818f04",
   "metadata": {},
   "source": [
    "## 3️⃣ Investigate Housekeeping Activity\n",
    "\n",
    "Did housekeeping enter Room 407? Let's check the housekeeping log."
   ]
  },
  {
   "cell_type": "code",
   "execution_count": null,
   "id": "4a8b4289",
   "metadata": {},
   "outputs": [],
   "source": []
  },
  {
   "cell_type": "markdown",
   "id": "834588b9",
   "metadata": {},
   "source": [
    "### 🔎 Findings\n",
    "\n",
    "- Room 407 has **no entry time or staff listed** for the relevant date.\n",
    "- Other rooms were cleaned by staff (J. Smith and M. Torres).\n",
    "\n",
    "No official housekeeping entry was recorded for Room 407. Could someone have entered unofficially?"
   ]
  },
  {
   "cell_type": "markdown",
   "id": "57584605",
   "metadata": {},
   "source": [
    "## 4️⃣ Analyze Keycard Activity for Room 407\n",
    "\n",
    "Let's see who used a keycard to access Room 407 and when. We'll also parse the timestamps for easier analysis."
   ]
  },
  {
   "cell_type": "code",
   "execution_count": null,
   "id": "d9a661af",
   "metadata": {},
   "outputs": [],
   "source": []
  },
  {
   "cell_type": "markdown",
   "id": "dd33c745",
   "metadata": {},
   "source": [
    "### 🔎 Findings\n",
    "\n",
    "- **Alex Harper** used their guest card at 22:17 (likely check-in), 07:45, and 08:00.\n",
    "- **M. Torres** (staff) used a staff card at 01:05.\n",
    "- **Maria Lopez** (from Room 405) used her guest card at 08:10.\n",
    "\n",
    "Multiple people accessed Room 407, including a staff member and a guest from another room. Let's see if the security cameras confirm these movements."
   ]
  },
  {
   "cell_type": "markdown",
   "id": "a780118c",
   "metadata": {},
   "source": [
    "## 5️⃣ Cross-Reference Security Camera Logs\n",
    "\n",
    "We'll parse the timestamps and look for entries/exits near Room 407."
   ]
  },
  {
   "cell_type": "code",
   "execution_count": null,
   "id": "e9dc4864",
   "metadata": {},
   "outputs": [],
   "source": []
  },
  {
   "cell_type": "markdown",
   "id": "cae0e2a5",
   "metadata": {},
   "source": [
    "### 🔎 Findings\n",
    "\n",
    "- **M. Torres** entered the hallway at 01:04 (matches staff keycard use at 01:05).\n",
    "- **Alex Harper** exited at 07:46 (shortly after using their keycard at 07:45).\n",
    "- **Maria Lopez** entered at 08:09 and exited at 08:15 (matches her keycard use at 08:10).\n",
    "\n",
    "The logs suggest:\n",
    "- M. Torres entered Room 407 late at night.\n",
    "- Alex Harper left the hallway in the morning.\n",
    "- Maria Lopez entered Room 407 after Alex left.\n",
    "\n",
    "Let's visualize the timeline for clarity."
   ]
  },
  {
   "cell_type": "code",
   "execution_count": null,
   "id": "4bd1c4c8",
   "metadata": {},
   "outputs": [],
   "source": []
  },
  {
   "cell_type": "markdown",
   "id": "74feb120",
   "metadata": {},
   "source": [
    "## 6️⃣ Conclusion: Who Slipped Through the Cracks? 🧐\n",
    "\n",
    "- **Alex Harper** checked in, used their keycard multiple times, and was last seen leaving the hallway at 07:46.\n",
    "- **M. Torres** (staff) entered Room 407 at 01:05, matching the camera log. Why did staff enter so late?\n",
    "- **Maria Lopez** (guest from Room 405) entered Room 407 at 08:10, just after Alex left, and stayed for 6 minutes.\n",
    "- No housekeeping was officially logged for Room 407.\n",
    "\n",
    "### 🕵️‍♂️ Insight:\n",
    "- The data suggests **Alex Harper left the room alive at 07:46**, but the room showed signs of a struggle afterward.\n",
    "- **Maria Lopez** entered Room 407 after Alex left—possibly to investigate, or for another reason.\n",
    "- **M. Torres**'s late-night entry is suspicious, as is the lack of official housekeeping.\n",
    "\n",
    "**Most likely, the key moment is between 01:05 (staff entry) and 07:46 (Alex's exit).**\n",
    "\n",
    "**Next steps:** Interview M. Torres and Maria Lopez. Check for possible data tampering or unlogged entries. The digital trail points to staff involvement or a cover-up!\n",
    "\n",
    "Great work, detective! 🕵️‍♀️"
   ]
  }
 ],
 "metadata": {
  "kernelspec": {
   "display_name": "Python 3 (ipykernel)",
   "language": "python",
   "name": "python3"
  },
  "language_info": {
   "codemirror_mode": {
    "name": "ipython",
    "version": 3
   },
   "file_extension": ".py",
   "mimetype": "text/x-python",
   "name": "python",
   "nbconvert_exporter": "python",
   "pygments_lexer": "ipython3",
   "version": "3.11.9"
  },
  "widgets": {
   "application/vnd.jupyter.widget-state+json": {
    "state": {},
    "version_major": 2,
    "version_minor": 0
   }
  }
 },
 "nbformat": 4,
 "nbformat_minor": 5
}
