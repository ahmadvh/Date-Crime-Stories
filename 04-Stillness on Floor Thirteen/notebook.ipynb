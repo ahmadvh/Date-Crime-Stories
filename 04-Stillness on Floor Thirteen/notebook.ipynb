{
 "cells": [
  {
   "cell_type": "markdown",
   "id": "876356c5",
   "metadata": {},
   "source": [
    "# 🕵️‍♂️ St. Elora Hospital Mystery\n",
    "\n",
    "During a stormy night at St. Elora Hospital, Nurse Riley reports seeing a man in a hospital gown wandering the east wing. However, the patient list shows no such person. Security dismisses her claim as stress, but Riley insists. Entry badge records, medication logs, and security camera motion data from that night may reveal if Riley truly saw an intruder—or something more sinister.\n",
    "\n",
    "Let's investigate! 🔍"
   ]
  },
  {
   "cell_type": "markdown",
   "id": "f725a0b5",
   "metadata": {},
   "source": [
    "## 1️⃣ Load the Data\n",
    "\n",
    "We'll start by loading all the relevant datasets: entry badge records, medication logs, security camera motion data, and the patient list."
   ]
  },
  {
   "cell_type": "code",
   "execution_count": 1,
   "id": "668386a6",
   "metadata": {},
   "outputs": [],
   "source": []
  },
  {
   "cell_type": "markdown",
   "id": "22aacd62",
   "metadata": {},
   "source": [
    "## 2️⃣ Quick Glance at the Data\n",
    "\n",
    "Let's preview each dataset to understand their structure and contents."
   ]
  },
  {
   "cell_type": "code",
   "execution_count": null,
   "id": "96689a3b",
   "metadata": {},
   "outputs": [],
   "source": []
  },
  {
   "cell_type": "code",
   "execution_count": null,
   "id": "52b295ee-378f-40c5-82ac-d75c4e6d316f",
   "metadata": {},
   "outputs": [],
   "source": []
  },
  {
   "cell_type": "code",
   "execution_count": null,
   "id": "c6d74658-5200-48b4-aed1-10e499b15f21",
   "metadata": {},
   "outputs": [],
   "source": []
  },
  {
   "cell_type": "code",
   "execution_count": null,
   "id": "a99afe58-c4da-41ce-b28d-06a3b2f6e26a",
   "metadata": {},
   "outputs": [],
   "source": []
  },
  {
   "cell_type": "markdown",
   "id": "0d07cc85",
   "metadata": {},
   "source": [
    "We see that each dataset contains time-based records. Let's ensure the 'time' columns are parsed as time objects for easier analysis."
   ]
  },
  {
   "cell_type": "code",
   "execution_count": 9,
   "id": "818265d9",
   "metadata": {},
   "outputs": [],
   "source": []
  },
  {
   "cell_type": "markdown",
   "id": "7e1c8b8a",
   "metadata": {},
   "source": [
    "## 3️⃣ Who Was in the East Wing?\n",
    "\n",
    "Let's filter the entry badge records to see who accessed the East Wing around the time Nurse Riley reported the sighting."
   ]
  },
  {
   "cell_type": "code",
   "execution_count": 10,
   "id": "a29c2674",
   "metadata": {},
   "outputs": [],
   "source": []
  },
  {
   "cell_type": "markdown",
   "id": "39e60d22",
   "metadata": {},
   "source": [
    "From the badge records, we see that Riley was in the East Wing at 22:05, Orderly Sam at 22:18, and Dr. Chen at 22:45. Let's compare these times to the motion detected by the security cameras."
   ]
  },
  {
   "cell_type": "markdown",
   "id": "cb16ca7d",
   "metadata": {},
   "source": [
    "## 4️⃣ Security Camera Motion Analysis\n",
    "\n",
    "Let's look at when motion was detected in the East Wing."
   ]
  },
  {
   "cell_type": "code",
   "execution_count": 11,
   "id": "3c1485c3",
   "metadata": {},
   "outputs": [],
   "source": []
  },
  {
   "cell_type": "markdown",
   "id": "2ae853fc",
   "metadata": {},
   "source": [
    "Motion was detected at 22:07, 22:13, and 22:44 in the East Wing. Let's see if these times align with any badge entries."
   ]
  },
  {
   "cell_type": "markdown",
   "id": "dfdc51b5",
   "metadata": {},
   "source": [
    "## 5️⃣ Timeline Comparison\n",
    "\n",
    "In this step, we’ll create a timeline view that compares when badge entries and motion detections occurred in the East Wing. To make the visualization clear and flexible, we first restructure the data into a tidy DataFrame with two columns:\n",
    "\n",
    "when → the timestamp of the event\n",
    "\n",
    "type → the event category (Badge Entry or Motion Detected)\n"
   ]
  },
  {
   "cell_type": "code",
   "execution_count": 12,
   "id": "740be44e",
   "metadata": {},
   "outputs": [],
   "source": []
  },
  {
   "cell_type": "markdown",
   "id": "25c01246-febd-402f-9e06-cfd393e35bae",
   "metadata": {},
   "source": [
    "Now that we have the tidy DataFrame, let’s plot both event types on the same timeline."
   ]
  },
  {
   "cell_type": "code",
   "execution_count": 13,
   "id": "777a306f-0d35-45ce-aa30-7804db5ac93e",
   "metadata": {},
   "outputs": [],
   "source": []
  },
  {
   "cell_type": "markdown",
   "id": "810a3584",
   "metadata": {},
   "source": [
    "The plot shows that motion was detected at times when no badge entry was recorded (e.g., 22:07 and 22:13). This suggests someone may have been present in the East Wing without using a badge."
   ]
  },
  {
   "cell_type": "markdown",
   "id": "1f6f68af",
   "metadata": {},
   "source": [
    "## 6️⃣ Patient List Cross-Check\n",
    "\n",
    "Nurse Riley reported seeing a man in a hospital gown. Let's check if any patients were unaccounted for or missing from the list."
   ]
  },
  {
   "cell_type": "code",
   "execution_count": null,
   "id": "072db425",
   "metadata": {},
   "outputs": [],
   "source": []
  },
  {
   "cell_type": "markdown",
   "id": "61b9b096",
   "metadata": {},
   "source": [
    "All patients are accounted for in the list. The medication logs also show Riley administered medication to five patients, matching the patient list. No extra patients appear in the records."
   ]
  },
  {
   "cell_type": "markdown",
   "id": "f397e18c",
   "metadata": {},
   "source": [
    "# 🧩 Conclusion\n",
    "\n",
    "The data suggests that motion was detected in the East Wing at times when no staff badge was used to enter. All patients are accounted for, and no extra patients are listed. This supports Nurse Riley's claim that someone unaccounted for was present in the East Wing that night—possibly an intruder, or something more mysterious... 👻\n",
    "\n",
    "**Final Insight:** The evidence points to an unidentified presence in the East Wing, as motion was detected without corresponding badge entries. Riley's sighting should not be dismissed!"
   ]
  }
 ],
 "metadata": {
  "kernelspec": {
   "display_name": "Python 3 (ipykernel)",
   "language": "python",
   "name": "python3"
  },
  "language_info": {
   "codemirror_mode": {
    "name": "ipython",
    "version": 3
   },
   "file_extension": ".py",
   "mimetype": "text/x-python",
   "name": "python",
   "nbconvert_exporter": "python",
   "pygments_lexer": "ipython3",
   "version": "3.11.9"
  },
  "widgets": {
   "application/vnd.jupyter.widget-state+json": {
    "state": {},
    "version_major": 2,
    "version_minor": 0
   }
  }
 },
 "nbformat": 4,
 "nbformat_minor": 5
}
