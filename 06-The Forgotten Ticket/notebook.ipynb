{
 "cells": [
  {
   "cell_type": "markdown",
   "id": "2ac591aa",
   "metadata": {},
   "source": [
    "# 🎭 Curtain Call Catastrophe: A Data-Driven Murder Mystery\n",
    "\n",
    "During the sold-out premiere of **'Curtain Call'**, lead actor Victor Lane collapses on stage after drinking from his water bottle. The autopsy reveals poisoning. The fatal script change, which required Victor to drink on stage, was made just hours before the show. Only a handful of people had backstage access, and interval snack sales were unusually high. \n",
    "\n",
    "We have access to:\n",
    "- **Seat allocation**\n",
    "- **Snack sales**\n",
    "- **Backstage access logs**\n",
    "\n",
    "Let's analyze the data to uncover who tampered with Victor's drink—and why! 🕵️‍♂️"
   ]
  },
  {
   "cell_type": "markdown",
   "id": "3d85bfc0",
   "metadata": {},
   "source": [
    "## 1️⃣ Loading the Data\n",
    "\n",
    "Let's load all three datasets using Pandas. We'll inspect the first few rows of each to get familiar with the data."
   ]
  },
  {
   "cell_type": "code",
   "execution_count": 1,
   "id": "30e1d8e8",
   "metadata": {},
   "outputs": [],
   "source": []
  },
  {
   "cell_type": "markdown",
   "id": "15c1c651",
   "metadata": {},
   "source": [
    "### 🔎 Initial Observations\n",
    "\n",
    "- **Seat Allocation:** Shows who sat where, their ticket type, and arrival time.\n",
    "- **Snack Sales:** Lists buyers, items, purchase times, and locations.\n",
    "- **Backstage Access:** Logs who accessed backstage, their role, and swipe time.\n",
    "\n",
    "Let's dig deeper into each dataset to look for clues!"
   ]
  },
  {
   "cell_type": "markdown",
   "id": "d2eef507",
   "metadata": {},
   "source": [
    "## 2️⃣ Who Had Backstage Access?\n",
    "\n",
    "Since only a few people could access backstage, let's see who they were and when they entered."
   ]
  },
  {
   "cell_type": "code",
   "execution_count": 2,
   "id": "168f7b2d",
   "metadata": {},
   "outputs": [],
   "source": []
  },
  {
   "cell_type": "markdown",
   "id": "a34ae530",
   "metadata": {},
   "source": [
    "### 🗝️ Backstage Access Analysis\n",
    "\n",
    "We see that **Elena Marsh**, **Lydia Frost**, **Maya Lin**, and **Samir Patel** all had backstage access around 20:05–20:18. **Tom Reed** had no access.\n",
    "\n",
    "This narrows our suspect list to these four individuals."
   ]
  },
  {
   "cell_type": "markdown",
   "id": "afc55c6f",
   "metadata": {},
   "source": [
    "## 3️⃣ Snack Sales: Who Bought Bottled Water?\n",
    "\n",
    "Victor was poisoned via his water bottle. Let's check who bought bottled water around the interval."
   ]
  },
  {
   "cell_type": "code",
   "execution_count": 3,
   "id": "35cb7956",
   "metadata": {},
   "outputs": [],
   "source": []
  },
  {
   "cell_type": "markdown",
   "id": "4a7a13d9",
   "metadata": {},
   "source": [
    "### 💧 Bottled Water Buyers\n",
    "\n",
    "**Elena Marsh**, **Maya Lin**, and **Samir Patel** all bought bottled water between 20:10 and 20:13. **Lydia Frost** did not buy water, but bought a chocolate bar. \n",
    "\n",
    "Could one of these bottles have been swapped with Victor's?"
   ]
  },
  {
   "cell_type": "markdown",
   "id": "9c276e1e",
   "metadata": {},
   "source": [
    "## 4️⃣ Timing: Snack Purchases vs. Backstage Entry\n",
    "\n",
    "Let's compare the times when bottled water was bought and when each person accessed backstage. Did anyone have both a water purchase and backstage access soon after?"
   ]
  },
  {
   "cell_type": "code",
   "execution_count": 4,
   "id": "6d805896",
   "metadata": {},
   "outputs": [],
   "source": []
  },
  {
   "cell_type": "markdown",
   "id": "9603fcf0",
   "metadata": {},
   "source": [
    "### ⏰ Timeline Clues\n",
    "\n",
    "- **Elena Marsh**: Bought water at 20:10, accessed backstage at 20:15\n",
    "- **Maya Lin**: Bought water at 20:11, accessed backstage at 20:05 (before purchase)\n",
    "- **Samir Patel**: Bought water at 20:13, accessed backstage at 20:18\n",
    "\n",
    "Only **Elena Marsh** bought water and then entered backstage shortly after. This timing is suspicious!"
   ]
  },
  {
   "cell_type": "markdown",
   "id": "e7f226bc",
   "metadata": {},
   "source": [
    "## 5️⃣ Visualizing the Timeline\n",
    "\n",
    "Let's visualize the sequence of bottled water purchases and backstage entries to spot overlaps. first let's prepare the our `merged` dataframe for visualization"
   ]
  },
  {
   "cell_type": "code",
   "execution_count": 5,
   "id": "a82e0f2f",
   "metadata": {},
   "outputs": [],
   "source": []
  },
  {
   "cell_type": "markdown",
   "id": "6b131b9a-c965-44c3-833f-9357a6acdbc5",
   "metadata": {},
   "source": [
    "Build x/y data for line segments connecting purchase → swipe"
   ]
  },
  {
   "cell_type": "code",
   "execution_count": 6,
   "id": "3a0d0c8a-7e20-41ad-a061-338c4ebd735d",
   "metadata": {},
   "outputs": [],
   "source": []
  },
  {
   "cell_type": "markdown",
   "id": "1871cf57-efda-47b0-84af-059d8afa4f19",
   "metadata": {},
   "source": [
    "Now let's create our chart "
   ]
  },
  {
   "cell_type": "code",
   "execution_count": 7,
   "id": "63bcd26a-4739-4620-96d0-bf5cdb35bb9c",
   "metadata": {},
   "outputs": [],
   "source": []
  },
  {
   "cell_type": "markdown",
   "id": "e9d0b685",
   "metadata": {},
   "source": [
    "### 📊 Timeline Insights\n",
    "\n",
    "The plot shows that **Elena Marsh**'s water purchase and backstage entry are closely linked in time, making her opportunity to tamper with Victor's bottle plausible. The other suspects' timings are less suspicious."
   ]
  },
  {
   "cell_type": "markdown",
   "id": "6951d242",
   "metadata": {},
   "source": [
    "## 🕵️‍♀️ Conclusion: Who is the Likely Culprit?\n",
    "\n",
    "Based on the data:\n",
    "- **Elena Marsh** bought bottled water at 20:10 and accessed backstage at 20:15—right before Victor's fatal drink.\n",
    "- Other suspects either did not buy water or their timings don't align as closely.\n",
    "\n",
    "**Elena Marsh** had both motive (as Stage Manager, she knew about the script change) and opportunity.\n",
    "\n",
    "**Case closed? Or is there more to uncover?** 👀"
   ]
  }
 ],
 "metadata": {
  "kernelspec": {
   "display_name": "Python 3 (ipykernel)",
   "language": "python",
   "name": "python3"
  },
  "language_info": {
   "codemirror_mode": {
    "name": "ipython",
    "version": 3
   },
   "file_extension": ".py",
   "mimetype": "text/x-python",
   "name": "python",
   "nbconvert_exporter": "python",
   "pygments_lexer": "ipython3",
   "version": "3.11.9"
  },
  "widgets": {
   "application/vnd.jupyter.widget-state+json": {
    "state": {},
    "version_major": 2,
    "version_minor": 0
   }
  }
 },
 "nbformat": 4,
 "nbformat_minor": 5
}
